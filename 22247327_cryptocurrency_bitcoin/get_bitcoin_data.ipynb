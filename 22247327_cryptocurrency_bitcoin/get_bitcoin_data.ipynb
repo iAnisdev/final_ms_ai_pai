{
 "cells": [
  {
   "cell_type": "code",
   "id": "initial_id",
   "metadata": {
    "collapsed": true,
    "ExecuteTime": {
     "end_time": "2024-12-19T17:55:47.163786Z",
     "start_time": "2024-12-19T17:55:42.317895Z"
    }
   },
   "source": [
    "from binance.client import Client\n",
    "import pandas as pd\n",
    "import os\n",
    "from dotenv import load_dotenv\n",
    "from datetime import datetime, timedelta"
   ],
   "outputs": [],
   "execution_count": 2
  },
  {
   "metadata": {
    "ExecuteTime": {
     "end_time": "2024-12-19T17:55:52.244643Z",
     "start_time": "2024-12-19T17:55:52.233667Z"
    }
   },
   "cell_type": "code",
   "source": [
    "# Load .env\n",
    "load_dotenv()\n",
    "\n",
    "# Get API key\n",
    "api_key = os.getenv('BINANCE_API_KEY')\n",
    "api_secret = os.getenv('BINANCE_API_SECRET')"
   ],
   "id": "a8099f60baabf489",
   "outputs": [],
   "execution_count": 3
  },
  {
   "metadata": {
    "ExecuteTime": {
     "end_time": "2024-12-19T22:21:50.471127Z",
     "start_time": "2024-12-19T22:21:49.145256Z"
    }
   },
   "cell_type": "code",
   "source": [
    "# Create a Binance client\n",
    "client = Client(api_key, api_secret)\n",
    "\n",
    "def fetch_binance_data(symbol='BTCUSDT', interval='1d'):\n",
    "    \"\"\"\n",
    "    Get history OHLCV data for Bitcoin (BTC)\n",
    "    :param symbol:  'BTCUSDT'\n",
    "    :param interval: K-line period, '1d'\n",
    "    :return: pandas DataFrame\n",
    "    \"\"\"\n",
    "    # Calculate the date from three years ago and format it in 'YYYY-MM-DD UTC' format\n",
    "    three_years_ago = datetime.now() - timedelta(days=3*365)\n",
    "    start_date = three_years_ago.strftime('%Y-%m-%d')+ ' UTC'\n",
    "    \n",
    "    # Get historical data\n",
    "    klines = client.get_historical_klines(symbol, interval, start_str=start_date)\n",
    "\n",
    "    # Convert data to -- pandas DataFrame\n",
    "    ohlcv_data = pd.DataFrame(klines, columns=[\n",
    "        'timestamp', 'open', 'high', 'low', 'close', 'volume', \n",
    "        'close_time', 'quote_asset_volume', 'number_of_trades', \n",
    "        'taker_buy_base_asset_volume', 'taker_buy_quote_asset_volume', 'ignore'\n",
    "    ])\n",
    "\n",
    "    # Converts the timestamp to date format\n",
    "    ohlcv_data['timestamp'] = pd.to_datetime(ohlcv_data['timestamp'], unit='ms')\n",
    "\n",
    "   # Add Unix timestamp (seconds since epoch) in scientific notation\n",
    "    ohlcv_data['timestamp_unix'] = ohlcv_data['timestamp'].apply(lambda x: \"{:.6e}\".format(x.timestamp()))\n",
    "\n",
    "    # return\n",
    "    return ohlcv_data[['timestamp', 'timestamp_unix', 'open', 'high', 'low', 'close', 'volume']]\n",
    "\n",
    "\n",
    "# Last three years of historical data\n",
    "symbol = 'BTCUSDT' \n",
    "data = fetch_binance_data(symbol=symbol, interval='1d')\n",
    "\n",
    "# output data -- 5\n",
    "print(data.head())\n",
    "\n",
    "# Save as CSV\n",
    "output_filename = \"bitcoin_3_years_data.csv\"\n",
    "data.to_csv(output_filename, index=False)"
   ],
   "id": "f0607e35b4db79c2",
   "outputs": [
    {
     "name": "stdout",
     "output_type": "stream",
     "text": [
      "   timestamp timestamp_unix            open            high             low  \\\n",
      "0 2021-12-20   1.639958e+09  46681.24000000  47537.57000000  45558.85000000   \n",
      "1 2021-12-21   1.640045e+09  46914.17000000  49328.96000000  46630.00000000   \n",
      "2 2021-12-22   1.640131e+09  48887.59000000  49576.13000000  48421.87000000   \n",
      "3 2021-12-23   1.640218e+09  48588.17000000  51375.00000000  47920.42000000   \n",
      "4 2021-12-24   1.640304e+09  50838.82000000  51810.00000000  50384.43000000   \n",
      "\n",
      "            close          volume  \n",
      "0  46914.16000000  35848.50609000  \n",
      "1  48889.88000000  37713.92924000  \n",
      "2  48588.16000000  27004.20220000  \n",
      "3  50838.81000000  35192.54046000  \n",
      "4  50820.00000000  31684.84269000  \n"
     ]
    }
   ],
   "execution_count": 10
  },
  {
   "metadata": {
    "ExecuteTime": {
     "end_time": "2024-12-19T17:37:49.971768Z",
     "start_time": "2024-12-19T17:37:49.967326Z"
    }
   },
   "cell_type": "code",
   "source": "",
   "id": "19ebbe8b1250d9df",
   "outputs": [],
   "execution_count": null
  },
  {
   "metadata": {
    "ExecuteTime": {
     "end_time": "2024-12-19T17:37:50.027606Z",
     "start_time": "2024-12-19T17:37:50.024268Z"
    }
   },
   "cell_type": "code",
   "source": "",
   "id": "c0f99d56daef5824",
   "outputs": [],
   "execution_count": null
  }
 ],
 "metadata": {
  "kernelspec": {
   "display_name": "Python 3",
   "language": "python",
   "name": "python3"
  },
  "language_info": {
   "codemirror_mode": {
    "name": "ipython",
    "version": 2
   },
   "file_extension": ".py",
   "mimetype": "text/x-python",
   "name": "python",
   "nbconvert_exporter": "python",
   "pygments_lexer": "ipython2",
   "version": "2.7.6"
  }
 },
 "nbformat": 4,
 "nbformat_minor": 5
}
