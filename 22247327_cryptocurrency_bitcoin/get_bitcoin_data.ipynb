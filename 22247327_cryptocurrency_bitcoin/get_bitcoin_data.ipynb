{
 "cells": [
  {
   "cell_type": "code",
   "id": "initial_id",
   "metadata": {
    "collapsed": true,
    "ExecuteTime": {
     "end_time": "2024-12-21T14:24:13.971275Z",
     "start_time": "2024-12-21T14:24:13.966975Z"
    }
   },
   "source": [
    "from binance.client import Client\n",
    "import pandas as pd\n",
    "import os\n",
    "from dotenv import load_dotenv\n",
    "from datetime import datetime, timedelta"
   ],
   "outputs": [],
   "execution_count": 18
  },
  {
   "metadata": {
    "ExecuteTime": {
     "end_time": "2024-12-21T14:24:16.005438Z",
     "start_time": "2024-12-21T14:24:15.998856Z"
    }
   },
   "cell_type": "code",
   "source": [
    "# Load .env\n",
    "load_dotenv()\n",
    "\n",
    "# Get API key\n",
    "api_key = os.getenv('BINANCE_API_KEY')\n",
    "api_secret = os.getenv('BINANCE_API_SECRET')"
   ],
   "id": "a8099f60baabf489",
   "outputs": [],
   "execution_count": 19
  },
  {
   "metadata": {
    "ExecuteTime": {
     "end_time": "2024-12-21T15:20:02.783598Z",
     "start_time": "2024-12-21T15:20:01.527273Z"
    }
   },
   "cell_type": "code",
   "source": [
    "# Create a Binance client\n",
    "client = Client(api_key, api_secret)\n",
    "\n",
    "def fetch_binance_data(symbol='BTCUSDT', interval='1d'):\n",
    "    \"\"\"\n",
    "    Get history OHLCV data for Bitcoin (BTC)\n",
    "    :param symbol:  'BTCUSDT'\n",
    "    :param interval: K-line period, '1d'\n",
    "    :return: pandas DataFrame\n",
    "    \"\"\"\n",
    "    # Calculate the date from 5 years ago and format it in 'YYYY-MM-DD UTC' format\n",
    "    five_years_ago = datetime.now() - timedelta(days=5*365)\n",
    "    start_date = five_years_ago.strftime('%Y-%m-%d')\n",
    "    \n",
    "    # Get historical data\n",
    "    klines = client.get_historical_klines(symbol, interval, start_str=start_date)\n",
    "\n",
    "    # Convert data to -- pandas DataFrame\n",
    "    ohlcv_data = pd.DataFrame(klines, columns=[\n",
    "        'timestamp', 'open', 'high', 'low', 'close', 'volume', \n",
    "        'close_time', 'quote_asset_volume', 'number_of_trades', \n",
    "        'taker_buy_base_asset_volume', 'taker_buy_quote_asset_volume', 'ignore'\n",
    "    ])\n",
    "\n",
    "    # Converts the timestamp to date format\n",
    "    ohlcv_data['timestamp'] = pd.to_datetime(ohlcv_data['timestamp'], unit='ms')\n",
    "\n",
    "   # Add Unix timestamp (seconds since epoch) in scientific notation\n",
    "    ohlcv_data['timestamp_unix'] = ohlcv_data['timestamp'].apply(lambda x: \"{:.6e}\".format(x.timestamp()))\n",
    "\n",
    "    # return\n",
    "    return ohlcv_data[['timestamp', 'timestamp_unix', 'open', 'high', 'low', 'close', 'volume']]\n",
    "\n",
    "\n",
    "# Last three years of historical data\n",
    "symbol = 'BTCUSDT' \n",
    "data = fetch_binance_data(symbol=symbol, interval='1d')\n",
    "\n",
    "# output data -- 5\n",
    "print(data.head())\n",
    "\n",
    "# Save as CSV\n",
    "output_filename = \"bitcoin_5_years_data.csv\"\n",
    "data.to_csv(output_filename, index=False)"
   ],
   "id": "f0607e35b4db79c2",
   "outputs": [
    {
     "name": "stdout",
     "output_type": "stream",
     "text": [
      "   timestamp timestamp_unix           open           high            low  \\\n",
      "0 2019-12-23   1.577059e+09  7500.71000000  7695.38000000  7265.84000000   \n",
      "1 2019-12-24   1.577146e+09  7317.30000000  7436.68000000  7157.04000000   \n",
      "2 2019-12-25   1.577232e+09  7255.77000000  7271.77000000  7128.86000000   \n",
      "3 2019-12-26   1.577318e+09  7205.01000000  7435.00000000  7157.12000000   \n",
      "4 2019-12-27   1.577405e+09  7202.00000000  7275.86000000  7076.42000000   \n",
      "\n",
      "           close          volume  \n",
      "0  7317.09000000  68051.99720300  \n",
      "1  7255.77000000  43629.49418800  \n",
      "2  7204.63000000  27492.04432300  \n",
      "3  7202.00000000  36259.76107600  \n",
      "4  7254.74000000  33642.70186100  \n"
     ]
    }
   ],
   "execution_count": 26
  },
  {
   "metadata": {
    "ExecuteTime": {
     "end_time": "2024-12-19T17:37:49.971768Z",
     "start_time": "2024-12-19T17:37:49.967326Z"
    }
   },
   "cell_type": "code",
   "source": "",
   "id": "19ebbe8b1250d9df",
   "outputs": [],
   "execution_count": null
  },
  {
   "metadata": {
    "ExecuteTime": {
     "end_time": "2024-12-19T17:37:50.027606Z",
     "start_time": "2024-12-19T17:37:50.024268Z"
    }
   },
   "cell_type": "code",
   "source": "",
   "id": "c0f99d56daef5824",
   "outputs": [],
   "execution_count": null
  }
 ],
 "metadata": {
  "kernelspec": {
   "display_name": "Python 3",
   "language": "python",
   "name": "python3"
  },
  "language_info": {
   "codemirror_mode": {
    "name": "ipython",
    "version": 2
   },
   "file_extension": ".py",
   "mimetype": "text/x-python",
   "name": "python",
   "nbconvert_exporter": "python",
   "pygments_lexer": "ipython2",
   "version": "2.7.6"
  }
 },
 "nbformat": 4,
 "nbformat_minor": 5
}
